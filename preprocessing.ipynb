{
 "cells": [
  {
   "cell_type": "code",
   "execution_count": 3,
   "metadata": {},
   "outputs": [
    {
     "name": "stdout",
     "output_type": "stream",
     "text": [
      "Collecting num2words\n",
      "  Downloading num2words-0.5.12-py3-none-any.whl (125 kB)\n"
     ]
    },
    {
     "name": "stderr",
     "output_type": "stream",
     "text": [
      "WARNING: You are using pip version 21.1.3; however, version 23.1.2 is available.\n",
      "You should consider upgrading via the 'c:\\users\\vaibhav\\appdata\\local\\programs\\python\\python39\\python.exe -m pip install --upgrade pip' command.\n"
     ]
    },
    {
     "name": "stdout",
     "output_type": "stream",
     "text": [
      "Collecting docopt>=0.6.2\n",
      "  Downloading docopt-0.6.2.tar.gz (25 kB)\n",
      "Using legacy 'setup.py install' for docopt, since package 'wheel' is not installed.\n",
      "Installing collected packages: docopt, num2words\n",
      "    Running setup.py install for docopt: started\n",
      "    Running setup.py install for docopt: finished with status 'done'\n",
      "Successfully installed docopt-0.6.2 num2words-0.5.12\n"
     ]
    }
   ],
   "source": [
    "!pip3 install num2words"
   ]
  },
  {
   "cell_type": "code",
   "execution_count": 4,
   "metadata": {},
   "outputs": [],
   "source": [
    "import string\n",
    "from num2words import num2words\n",
    "\n",
    "# Define the symbol-to-word mapping\n",
    "symbol_map = {\n",
    "    \"#\": \"hashtag\",\n",
    "    \"@\": \"at\",\n",
    "    \"&\": \"and\",\n",
    "    \"$\": \"dollar\",\n",
    "    \"%\": \"percent\",\n",
    "    \"*\": \"star\",\n",
    "    \"+\": \"plus\",\n",
    "    \"-\": \"minus\",\n",
    "    \"/\": \"slash\",\n",
    "    \"^\": \"caret\",\n",
    "    \"~\": \"tilde\",\n",
    "    \"=\": \"equals\",\n",
    "    \"<\": \"less than\",\n",
    "    \">\": \"greater than\",\n",
    "    \"(\": \"left parenthesis\",\n",
    "    \")\": \"right parenthesis\",\n",
    "    \"{\": \"left brace\",\n",
    "    \"}\": \"right brace\",\n",
    "    \"[\": \"left bracket\",\n",
    "    \"]\": \"right bracket\",\n",
    "    \"|\": \"pipe\",\n",
    "    \"\\\\\": \"backslash\",\n",
    "    \"`\": \"backtick\"\n",
    "}\n",
    "\n",
    "# Define the function to preprocess the text\n",
    "def preprocess_text(text):\n",
    "    # Convert everything to lowercase\n",
    "    text = text.lower()\n",
    "    # Initialize variables\n",
    "    words = []\n",
    "    num_buffer = \"\"\n",
    "    in_num = False\n",
    "    # Iterate over each character in the text\n",
    "    for char in text:\n",
    "        if char in string.digits or char == \".\":\n",
    "            # If the character is a digit or decimal point, add it to the number buffer\n",
    "            num_buffer += char\n",
    "            in_num = True\n",
    "        else:\n",
    "            if in_num:\n",
    "                # If we were in a number and the current character is not a digit or decimal point, add the number buffer to the list of words\n",
    "                if num_buffer == \".\":\n",
    "                    # If the number buffer is just a decimal point, add it as a word\n",
    "                    words.append(\"point\")\n",
    "                else:\n",
    "                    # Otherwise, convert the number buffer to a word and add it to the list of words\n",
    "                    words.append(num2words(float(num_buffer)))\n",
    "                num_buffer = \"\"\n",
    "            # If the character is not part of a number, process it as a regular character\n",
    "            if char in string.punctuation and char != \".\":\n",
    "                # If the character is punctuation, skip it\n",
    "                continue\n",
    "            else:\n",
    "                # Otherwise, replace symbols with words\n",
    "                for symbol, word in symbol_map.items():\n",
    "                    char = char.replace(symbol, word)\n",
    "                # Add the character to the list of words\n",
    "                words.append(char)\n",
    "            in_num = False\n",
    "    if num_buffer:\n",
    "        # If there is a number buffer remaining at the end of the text, add it to the list of words\n",
    "        if num_buffer == \".\":\n",
    "            # If the number buffer is just a decimal point, add it as a word\n",
    "            words.append(\"point\")\n",
    "        else:\n",
    "            # Otherwise, convert the number buffer to a word and add it to the list of words\n",
    "            words.append(num2words(float(num_buffer)))\n",
    "    # Join the words into a single string and return it\n",
    "    return \"\".join(words)\n"
   ]
  },
  {
   "cell_type": "code",
   "execution_count": 5,
   "metadata": {},
   "outputs": [
    {
     "name": "stdout",
     "output_type": "stream",
     "text": [
      "does diabetes mean worse outcomes for cancer patients\n",
      "in a recent study of thousands of cancer patients published in clinical cancer research imperial researchers found that having type two diabetes was strongly linked to worse outcomes among those receiving immunotherapy drugs called immune checkpoint inhibitorspoint\n",
      "\n",
      "according to the researchers more work is needed to establish and understand the links further but it could offer important insights into the mechanisms by which diabetes disrupts a common treatment for a wide range of cancerspoint\n",
      "\n",
      "drpoint david pinato from the department of surgery  cancer spoke to ryan ohare to explain the links and what it could mean for cancer carepoint\n"
     ]
    }
   ],
   "source": [
    "# Read the text file\n",
    "with open(\"a.txt\", \"r\") as f:\n",
    "    text = f.read()\n",
    "\n",
    "# Preprocess the text\n",
    "preprocessed_text = preprocess_text(text)\n",
    "\n",
    "# Print the preprocessed text\n",
    "print(preprocessed_text)"
   ]
  }
 ],
 "metadata": {
  "kernelspec": {
   "display_name": "Python 3",
   "language": "python",
   "name": "python3"
  },
  "language_info": {
   "codemirror_mode": {
    "name": "ipython",
    "version": 3
   },
   "file_extension": ".py",
   "mimetype": "text/x-python",
   "name": "python",
   "nbconvert_exporter": "python",
   "pygments_lexer": "ipython3",
   "version": "3.9.5"
  },
  "orig_nbformat": 4
 },
 "nbformat": 4,
 "nbformat_minor": 2
}
