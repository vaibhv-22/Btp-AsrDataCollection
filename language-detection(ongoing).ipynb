{
 "cells": [
  {
   "cell_type": "code",
   "execution_count": 19,
   "metadata": {},
   "outputs": [
    {
     "name": "stdout",
     "output_type": "stream",
     "text": [
      "Collecting spellchecker\n",
      "\u001b[33m  WARNING: Retrying (Retry(total=4, connect=None, read=None, redirect=None, status=None)) after connection broken by 'NewConnectionError('<urllib3.connection.VerifiedHTTPSConnection object at 0x7fcf936c76a0>: Failed to establish a new connection: [Errno 101] Network is unreachable')': /packages/8d/2f/95ff55a821f6fc83999f8418045ee472edcfd5fb06905090f68fda56a82a/spellchecker-0.4.tar.gz\u001b[0m\n",
      "\u001b[33m  WARNING: Retrying (Retry(total=3, connect=None, read=None, redirect=None, status=None)) after connection broken by 'NewConnectionError('<urllib3.connection.VerifiedHTTPSConnection object at 0x7fcf936c77f0>: Failed to establish a new connection: [Errno 101] Network is unreachable')': /packages/8d/2f/95ff55a821f6fc83999f8418045ee472edcfd5fb06905090f68fda56a82a/spellchecker-0.4.tar.gz\u001b[0m\n",
      "\u001b[33m  WARNING: Retrying (Retry(total=2, connect=None, read=None, redirect=None, status=None)) after connection broken by 'NewConnectionError('<urllib3.connection.VerifiedHTTPSConnection object at 0x7fcf936c7970>: Failed to establish a new connection: [Errno 101] Network is unreachable')': /packages/8d/2f/95ff55a821f6fc83999f8418045ee472edcfd5fb06905090f68fda56a82a/spellchecker-0.4.tar.gz\u001b[0m\n",
      "\u001b[33m  WARNING: Retrying (Retry(total=1, connect=None, read=None, redirect=None, status=None)) after connection broken by 'NewConnectionError('<urllib3.connection.VerifiedHTTPSConnection object at 0x7fcf936c7af0>: Failed to establish a new connection: [Errno 101] Network is unreachable')': /packages/8d/2f/95ff55a821f6fc83999f8418045ee472edcfd5fb06905090f68fda56a82a/spellchecker-0.4.tar.gz\u001b[0m\n",
      "\u001b[33m  WARNING: Retrying (Retry(total=0, connect=None, read=None, redirect=None, status=None)) after connection broken by 'NewConnectionError('<urllib3.connection.VerifiedHTTPSConnection object at 0x7fcf936c7c70>: Failed to establish a new connection: [Errno 101] Network is unreachable')': /packages/8d/2f/95ff55a821f6fc83999f8418045ee472edcfd5fb06905090f68fda56a82a/spellchecker-0.4.tar.gz\u001b[0m\n",
      "\u001b[31mERROR: Could not install packages due to an EnvironmentError: HTTPSConnectionPool(host='files.pythonhosted.org', port=443): Max retries exceeded with url: /packages/8d/2f/95ff55a821f6fc83999f8418045ee472edcfd5fb06905090f68fda56a82a/spellchecker-0.4.tar.gz (Caused by NewConnectionError('<urllib3.connection.VerifiedHTTPSConnection object at 0x7fcf936c7df0>: Failed to establish a new connection: [Errno 101] Network is unreachable'))\n",
      "\u001b[0m\n"
     ]
    }
   ],
   "source": [
    "!pip3 install spellchecker"
   ]
  },
  {
   "cell_type": "code",
   "execution_count": 22,
   "metadata": {},
   "outputs": [
    {
     "name": "stdout",
     "output_type": "stream",
     "text": [
      "Hello,: it\n",
      "world!: af\n",
      "We: de\n",
      "will: sw\n",
      "now: pl\n",
      "use: et\n",
      "the: en\n",
      "Unable to detect language for word: 123.45\n",
      "Python: cy\n",
      "code: pt\n",
      "to: en\n",
      "preprocess: pt\n",
      "this: en\n",
      "text.: ca\n",
      "All: tr\n",
      "text: en\n",
      "should: en\n",
      "be: id\n",
      "converted: it\n",
      "to: en\n",
      "lowercase,: en\n",
      "punctuation: ro\n",
      "should: en\n",
      "be: id\n",
      "removed,: sl\n",
      "symbols: cy\n",
      "should: en\n",
      "be: id\n",
      "replaced: es\n",
      "with: en\n",
      "their: en\n",
      "corresponding: it\n",
      "words,: af\n",
      "and: en\n",
      "numbers: sv\n",
      "should: en\n",
      "be: id\n",
      "converted: it\n",
      "to: en\n",
      "words.: af\n",
      "For: no\n",
      "example,: fr\n",
      "Unable to detect language for word: 1234\n",
      "should: en\n",
      "be: id\n",
      "converted: it\n",
      "to: en\n",
      "\"one: fi\n",
      "thousand: en\n",
      "two: pl\n",
      "hundred: da\n",
      "thirty-four\".: en\n",
      "Let's: fr\n",
      "see: af\n",
      "how: so\n",
      "it: tl\n",
      "turns: lv\n",
      "out!: fr\n"
     ]
    }
   ],
   "source": [
    "from langdetect import detect_langs\n",
    "\n",
    "# Read the text file\n",
    "with open('a.txt', 'r') as file:\n",
    "    text = file.read()\n",
    "\n",
    "# Split the text into words\n",
    "words = text.split()\n",
    "\n",
    "# Loop through each word and detect its language\n",
    "for word in words:\n",
    "    try:\n",
    "        langs = detect_langs(word)\n",
    "        print(f'{word}: {langs[0].lang}') # print the most likely language\n",
    "        # print the language detected in full format \n",
    "    except:\n",
    "        print(f'Unable to detect language for word: {word}')\n"
   ]
  }
 ],
 "metadata": {
  "kernelspec": {
   "display_name": "Python 3",
   "language": "python",
   "name": "python3"
  },
  "language_info": {
   "codemirror_mode": {
    "name": "ipython",
    "version": 3
   },
   "file_extension": ".py",
   "mimetype": "text/x-python",
   "name": "python",
   "nbconvert_exporter": "python",
   "pygments_lexer": "ipython3",
   "version": "3.8.10"
  },
  "orig_nbformat": 4
 },
 "nbformat": 4,
 "nbformat_minor": 2
}
